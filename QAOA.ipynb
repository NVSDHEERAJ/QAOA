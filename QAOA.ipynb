{
  "nbformat": 4,
  "nbformat_minor": 0,
  "metadata": {
    "colab": {
      "provenance": []
    },
    "kernelspec": {
      "name": "python3",
      "display_name": "Python 3"
    },
    "language_info": {
      "name": "python"
    }
  },
  "cells": [
    {
      "cell_type": "code",
      "execution_count": null,
      "metadata": {
        "colab": {
          "base_uri": "https://localhost:8080/"
        },
        "id": "AfCMtAz7sXfo",
        "outputId": "3379783e-3dd5-4b72-b6a2-f56d7439e009"
      },
      "outputs": [
        {
          "output_type": "stream",
          "name": "stdout",
          "text": [
            "Collecting qiskit\n",
            "  Downloading qiskit-0.45.1-py3-none-any.whl (9.6 kB)\n",
            "Collecting qiskit-terra==0.45.1 (from qiskit)\n",
            "  Downloading qiskit_terra-0.45.1-cp38-abi3-manylinux_2_17_x86_64.manylinux2014_x86_64.whl (6.3 MB)\n",
            "\u001b[2K     \u001b[90m━━━━━━━━━━━━━━━━━━━━━━━━━━━━━━━━━━━━━━━━\u001b[0m \u001b[32m6.3/6.3 MB\u001b[0m \u001b[31m13.7 MB/s\u001b[0m eta \u001b[36m0:00:00\u001b[0m\n",
            "\u001b[?25hCollecting rustworkx>=0.13.0 (from qiskit-terra==0.45.1->qiskit)\n",
            "  Downloading rustworkx-0.13.2-cp310-cp310-manylinux_2_17_x86_64.manylinux2014_x86_64.whl (2.0 MB)\n",
            "\u001b[2K     \u001b[90m━━━━━━━━━━━━━━━━━━━━━━━━━━━━━━━━━━━━━━━━\u001b[0m \u001b[32m2.0/2.0 MB\u001b[0m \u001b[31m29.6 MB/s\u001b[0m eta \u001b[36m0:00:00\u001b[0m\n",
            "\u001b[?25hRequirement already satisfied: numpy<2,>=1.17 in /usr/local/lib/python3.10/dist-packages (from qiskit-terra==0.45.1->qiskit) (1.23.5)\n",
            "Collecting ply>=3.10 (from qiskit-terra==0.45.1->qiskit)\n",
            "  Downloading ply-3.11-py2.py3-none-any.whl (49 kB)\n",
            "\u001b[2K     \u001b[90m━━━━━━━━━━━━━━━━━━━━━━━━━━━━━━━━━━━━━━━━\u001b[0m \u001b[32m49.6/49.6 kB\u001b[0m \u001b[31m6.0 MB/s\u001b[0m eta \u001b[36m0:00:00\u001b[0m\n",
            "\u001b[?25hRequirement already satisfied: psutil>=5 in /usr/local/lib/python3.10/dist-packages (from qiskit-terra==0.45.1->qiskit) (5.9.5)\n",
            "Requirement already satisfied: scipy>=1.5 in /usr/local/lib/python3.10/dist-packages (from qiskit-terra==0.45.1->qiskit) (1.11.4)\n",
            "Requirement already satisfied: sympy>=1.3 in /usr/local/lib/python3.10/dist-packages (from qiskit-terra==0.45.1->qiskit) (1.12)\n",
            "Collecting dill>=0.3 (from qiskit-terra==0.45.1->qiskit)\n",
            "  Downloading dill-0.3.7-py3-none-any.whl (115 kB)\n",
            "\u001b[2K     \u001b[90m━━━━━━━━━━━━━━━━━━━━━━━━━━━━━━━━━━━━━━━━\u001b[0m \u001b[32m115.3/115.3 kB\u001b[0m \u001b[31m13.6 MB/s\u001b[0m eta \u001b[36m0:00:00\u001b[0m\n",
            "\u001b[?25hRequirement already satisfied: python-dateutil>=2.8.0 in /usr/local/lib/python3.10/dist-packages (from qiskit-terra==0.45.1->qiskit) (2.8.2)\n",
            "Collecting stevedore>=3.0.0 (from qiskit-terra==0.45.1->qiskit)\n",
            "  Downloading stevedore-5.1.0-py3-none-any.whl (49 kB)\n",
            "\u001b[2K     \u001b[90m━━━━━━━━━━━━━━━━━━━━━━━━━━━━━━━━━━━━━━━━\u001b[0m \u001b[32m49.6/49.6 kB\u001b[0m \u001b[31m5.4 MB/s\u001b[0m eta \u001b[36m0:00:00\u001b[0m\n",
            "\u001b[?25hCollecting symengine!=0.10.0,>=0.9 (from qiskit-terra==0.45.1->qiskit)\n",
            "  Downloading symengine-0.11.0-cp310-cp310-manylinux_2_12_x86_64.manylinux2010_x86_64.whl (39.4 MB)\n",
            "\u001b[2K     \u001b[90m━━━━━━━━━━━━━━━━━━━━━━━━━━━━━━━━━━━━━━━━\u001b[0m \u001b[32m39.4/39.4 MB\u001b[0m \u001b[31m21.5 MB/s\u001b[0m eta \u001b[36m0:00:00\u001b[0m\n",
            "\u001b[?25hRequirement already satisfied: typing-extensions in /usr/local/lib/python3.10/dist-packages (from qiskit-terra==0.45.1->qiskit) (4.5.0)\n",
            "Requirement already satisfied: six>=1.5 in /usr/local/lib/python3.10/dist-packages (from python-dateutil>=2.8.0->qiskit-terra==0.45.1->qiskit) (1.16.0)\n",
            "Collecting pbr!=2.1.0,>=2.0.0 (from stevedore>=3.0.0->qiskit-terra==0.45.1->qiskit)\n",
            "  Downloading pbr-6.0.0-py2.py3-none-any.whl (107 kB)\n",
            "\u001b[2K     \u001b[90m━━━━━━━━━━━━━━━━━━━━━━━━━━━━━━━━━━━━━━━━\u001b[0m \u001b[32m107.5/107.5 kB\u001b[0m \u001b[31m12.1 MB/s\u001b[0m eta \u001b[36m0:00:00\u001b[0m\n",
            "\u001b[?25hRequirement already satisfied: mpmath>=0.19 in /usr/local/lib/python3.10/dist-packages (from sympy>=1.3->qiskit-terra==0.45.1->qiskit) (1.3.0)\n",
            "Installing collected packages: ply, symengine, rustworkx, pbr, dill, stevedore, qiskit-terra, qiskit\n",
            "Successfully installed dill-0.3.7 pbr-6.0.0 ply-3.11 qiskit-0.45.1 qiskit-terra-0.45.1 rustworkx-0.13.2 stevedore-5.1.0 symengine-0.11.0\n"
          ]
        }
      ],
      "source": [
        "!pip install qiskit"
      ]
    },
    {
      "cell_type": "code",
      "source": [
        "!pip install qiskit_rigetti"
      ],
      "metadata": {
        "colab": {
          "base_uri": "https://localhost:8080/"
        },
        "id": "gQZBPnVGJ2l5",
        "outputId": "262b441b-fb91-4548-dd20-bf7fd3457ba2"
      },
      "execution_count": null,
      "outputs": [
        {
          "output_type": "stream",
          "name": "stdout",
          "text": [
            "Collecting qiskit_rigetti\n",
            "  Downloading qiskit_rigetti-0.4.5-py3-none-any.whl (22 kB)\n",
            "Requirement already satisfied: numpy<2.0.0,>=1.20.1 in /usr/local/lib/python3.10/dist-packages (from qiskit_rigetti) (1.23.5)\n",
            "Collecting pyquil<4.0.0,>=3.0.0 (from qiskit_rigetti)\n",
            "  Downloading pyquil-3.5.4-py3-none-any.whl (223 kB)\n",
            "\u001b[2K     \u001b[90m━━━━━━━━━━━━━━━━━━━━━━━━━━━━━━━━━━━━━━━━\u001b[0m \u001b[32m223.8/223.8 kB\u001b[0m \u001b[31m3.8 MB/s\u001b[0m eta \u001b[36m0:00:00\u001b[0m\n",
            "\u001b[?25hCollecting qiskit<0.28.0,>=0.27.0 (from qiskit_rigetti)\n",
            "  Downloading qiskit-0.27.0.tar.gz (11 kB)\n",
            "  Preparing metadata (setup.py) ... \u001b[?25l\u001b[?25hdone\n",
            "Collecting deprecated<2.0.0,>=1.2.13 (from pyquil<4.0.0,>=3.0.0->qiskit_rigetti)\n",
            "  Downloading Deprecated-1.2.14-py2.py3-none-any.whl (9.6 kB)\n",
            "Collecting lark<0.12.0,>=0.11.1 (from pyquil<4.0.0,>=3.0.0->qiskit_rigetti)\n",
            "  Downloading lark-0.11.3.tar.gz (229 kB)\n",
            "\u001b[2K     \u001b[90m━━━━━━━━━━━━━━━━━━━━━━━━━━━━━━━━━━━━━━━━\u001b[0m \u001b[32m229.9/229.9 kB\u001b[0m \u001b[31m11.2 MB/s\u001b[0m eta \u001b[36m0:00:00\u001b[0m\n",
            "\u001b[?25h  Preparing metadata (setup.py) ... \u001b[?25l\u001b[?25hdone\n",
            "Requirement already satisfied: networkx>=2.5 in /usr/local/lib/python3.10/dist-packages (from pyquil<4.0.0,>=3.0.0->qiskit_rigetti) (3.2.1)\n",
            "Collecting qcs-api-client<0.22.0,>=0.21.0 (from pyquil<4.0.0,>=3.0.0->qiskit_rigetti)\n",
            "  Downloading qcs_api_client-0.21.6-py3-none-any.whl (151 kB)\n",
            "\u001b[2K     \u001b[90m━━━━━━━━━━━━━━━━━━━━━━━━━━━━━━━━━━━━━━━━\u001b[0m \u001b[32m151.7/151.7 kB\u001b[0m \u001b[31m9.6 MB/s\u001b[0m eta \u001b[36m0:00:00\u001b[0m\n",
            "\u001b[?25hCollecting rpcq<4.0.0,>=3.10.0 (from pyquil<4.0.0,>=3.0.0->qiskit_rigetti)\n",
            "  Downloading rpcq-3.11.0.tar.gz (45 kB)\n",
            "\u001b[2K     \u001b[90m━━━━━━━━━━━━━━━━━━━━━━━━━━━━━━━━━━━━━━━━\u001b[0m \u001b[32m45.6/45.6 kB\u001b[0m \u001b[31m5.0 MB/s\u001b[0m eta \u001b[36m0:00:00\u001b[0m\n",
            "\u001b[?25h  Preparing metadata (setup.py) ... \u001b[?25l\u001b[?25hdone\n",
            "Requirement already satisfied: scipy<2.0.0,>=1.6.1 in /usr/local/lib/python3.10/dist-packages (from pyquil<4.0.0,>=3.0.0->qiskit_rigetti) (1.11.4)\n",
            "Requirement already satisfied: tenacity<9.0.0,>=8.2.2 in /usr/local/lib/python3.10/dist-packages (from pyquil<4.0.0,>=3.0.0->qiskit_rigetti) (8.2.3)\n",
            "Collecting types-deprecated<2.0.0.0,>=1.2.9.2 (from pyquil<4.0.0,>=3.0.0->qiskit_rigetti)\n",
            "  Downloading types_Deprecated-1.2.9.3-py3-none-any.whl (3.3 kB)\n",
            "Collecting types-python-dateutil<3.0.0,>=2.8.19 (from pyquil<4.0.0,>=3.0.0->qiskit_rigetti)\n",
            "  Downloading types_python_dateutil-2.8.19.14-py3-none-any.whl (9.4 kB)\n",
            "Collecting types-retry<0.10.0,>=0.9.9 (from pyquil<4.0.0,>=3.0.0->qiskit_rigetti)\n",
            "  Downloading types_retry-0.9.9.4-py3-none-any.whl (2.5 kB)\n",
            "Collecting qiskit-terra==0.17.4 (from qiskit<0.28.0,>=0.27.0->qiskit_rigetti)\n",
            "  Downloading qiskit-terra-0.17.4.tar.gz (5.4 MB)\n",
            "\u001b[2K     \u001b[90m━━━━━━━━━━━━━━━━━━━━━━━━━━━━━━━━━━━━━━━━\u001b[0m \u001b[32m5.4/5.4 MB\u001b[0m \u001b[31m13.0 MB/s\u001b[0m eta \u001b[36m0:00:00\u001b[0m\n",
            "\u001b[?25h  Installing build dependencies ... \u001b[?25l\u001b[?25hdone\n",
            "  \u001b[1;31merror\u001b[0m: \u001b[1msubprocess-exited-with-error\u001b[0m\n",
            "  \n",
            "  \u001b[31m×\u001b[0m \u001b[32mGetting requirements to build wheel\u001b[0m did not run successfully.\n",
            "  \u001b[31m│\u001b[0m exit code: \u001b[1;36m1\u001b[0m\n",
            "  \u001b[31m╰─>\u001b[0m See above for output.\n",
            "  \n",
            "  \u001b[1;35mnote\u001b[0m: This error originates from a subprocess, and is likely not a problem with pip.\n",
            "  Getting requirements to build wheel ... \u001b[?25l\u001b[?25herror\n",
            "\u001b[1;31merror\u001b[0m: \u001b[1msubprocess-exited-with-error\u001b[0m\n",
            "\n",
            "\u001b[31m×\u001b[0m \u001b[32mGetting requirements to build wheel\u001b[0m did not run successfully.\n",
            "\u001b[31m│\u001b[0m exit code: \u001b[1;36m1\u001b[0m\n",
            "\u001b[31m╰─>\u001b[0m See above for output.\n",
            "\n",
            "\u001b[1;35mnote\u001b[0m: This error originates from a subprocess, and is likely not a problem with pip.\n"
          ]
        }
      ]
    },
    {
      "cell_type": "code",
      "source": [
        "pip install qiskit-ibmq-provider"
      ],
      "metadata": {
        "colab": {
          "base_uri": "https://localhost:8080/",
          "height": 763
        },
        "id": "IaO17yhYJ2os",
        "outputId": "958625c2-b43b-4c03-86ae-662858337a03"
      },
      "execution_count": null,
      "outputs": [
        {
          "output_type": "stream",
          "name": "stdout",
          "text": [
            "Collecting qiskit-ibmq-provider\n",
            "  Downloading qiskit_ibmq_provider-0.20.2-py3-none-any.whl (241 kB)\n",
            "\u001b[2K     \u001b[90m━━━━━━━━━━━━━━━━━━━━━━━━━━━━━━━━━━━━━━━━\u001b[0m \u001b[32m241.5/241.5 kB\u001b[0m \u001b[31m3.6 MB/s\u001b[0m eta \u001b[36m0:00:00\u001b[0m\n",
            "\u001b[?25hRequirement already satisfied: qiskit-terra>=0.18.0 in /usr/local/lib/python3.10/dist-packages (from qiskit-ibmq-provider) (0.45.1)\n",
            "Requirement already satisfied: requests>=2.19 in /usr/local/lib/python3.10/dist-packages (from qiskit-ibmq-provider) (2.31.0)\n",
            "Collecting requests-ntlm<=1.1.0 (from qiskit-ibmq-provider)\n",
            "  Downloading requests_ntlm-1.1.0-py2.py3-none-any.whl (5.7 kB)\n",
            "Requirement already satisfied: numpy<1.24 in /usr/local/lib/python3.10/dist-packages (from qiskit-ibmq-provider) (1.23.5)\n",
            "Requirement already satisfied: urllib3>=1.21.1 in /usr/local/lib/python3.10/dist-packages (from qiskit-ibmq-provider) (2.0.7)\n",
            "Requirement already satisfied: python-dateutil>=2.8.0 in /usr/local/lib/python3.10/dist-packages (from qiskit-ibmq-provider) (2.8.2)\n",
            "Requirement already satisfied: websocket-client>=1.5.1 in /usr/local/lib/python3.10/dist-packages (from qiskit-ibmq-provider) (1.6.4)\n",
            "Collecting websockets>=10.0 (from qiskit-ibmq-provider)\n",
            "  Downloading websockets-12.0-cp310-cp310-manylinux_2_5_x86_64.manylinux1_x86_64.manylinux_2_17_x86_64.manylinux2014_x86_64.whl (130 kB)\n",
            "\u001b[2K     \u001b[90m━━━━━━━━━━━━━━━━━━━━━━━━━━━━━━━━━━━━━━━━\u001b[0m \u001b[32m130.2/130.2 kB\u001b[0m \u001b[31m8.2 MB/s\u001b[0m eta \u001b[36m0:00:00\u001b[0m\n",
            "\u001b[?25hRequirement already satisfied: six>=1.5 in /usr/local/lib/python3.10/dist-packages (from python-dateutil>=2.8.0->qiskit-ibmq-provider) (1.16.0)\n",
            "Requirement already satisfied: rustworkx>=0.13.0 in /usr/local/lib/python3.10/dist-packages (from qiskit-terra>=0.18.0->qiskit-ibmq-provider) (0.13.2)\n",
            "Requirement already satisfied: ply>=3.10 in /usr/local/lib/python3.10/dist-packages (from qiskit-terra>=0.18.0->qiskit-ibmq-provider) (3.11)\n",
            "Requirement already satisfied: psutil>=5 in /usr/local/lib/python3.10/dist-packages (from qiskit-terra>=0.18.0->qiskit-ibmq-provider) (5.9.5)\n",
            "Requirement already satisfied: scipy>=1.5 in /usr/local/lib/python3.10/dist-packages (from qiskit-terra>=0.18.0->qiskit-ibmq-provider) (1.11.4)\n",
            "Requirement already satisfied: sympy>=1.3 in /usr/local/lib/python3.10/dist-packages (from qiskit-terra>=0.18.0->qiskit-ibmq-provider) (1.12)\n",
            "Requirement already satisfied: dill>=0.3 in /usr/local/lib/python3.10/dist-packages (from qiskit-terra>=0.18.0->qiskit-ibmq-provider) (0.3.7)\n",
            "Requirement already satisfied: stevedore>=3.0.0 in /usr/local/lib/python3.10/dist-packages (from qiskit-terra>=0.18.0->qiskit-ibmq-provider) (5.1.0)\n",
            "Requirement already satisfied: symengine!=0.10.0,>=0.9 in /usr/local/lib/python3.10/dist-packages (from qiskit-terra>=0.18.0->qiskit-ibmq-provider) (0.11.0)\n",
            "Requirement already satisfied: typing-extensions in /usr/local/lib/python3.10/dist-packages (from qiskit-terra>=0.18.0->qiskit-ibmq-provider) (4.5.0)\n",
            "Requirement already satisfied: charset-normalizer<4,>=2 in /usr/local/lib/python3.10/dist-packages (from requests>=2.19->qiskit-ibmq-provider) (3.3.2)\n",
            "Requirement already satisfied: idna<4,>=2.5 in /usr/local/lib/python3.10/dist-packages (from requests>=2.19->qiskit-ibmq-provider) (3.6)\n",
            "Requirement already satisfied: certifi>=2017.4.17 in /usr/local/lib/python3.10/dist-packages (from requests>=2.19->qiskit-ibmq-provider) (2023.11.17)\n",
            "Collecting ntlm-auth>=1.0.2 (from requests-ntlm<=1.1.0->qiskit-ibmq-provider)\n",
            "  Downloading ntlm_auth-1.5.0-py2.py3-none-any.whl (29 kB)\n",
            "Requirement already satisfied: cryptography>=1.3 in /usr/local/lib/python3.10/dist-packages (from requests-ntlm<=1.1.0->qiskit-ibmq-provider) (41.0.7)\n",
            "Requirement already satisfied: cffi>=1.12 in /usr/local/lib/python3.10/dist-packages (from cryptography>=1.3->requests-ntlm<=1.1.0->qiskit-ibmq-provider) (1.16.0)\n",
            "Requirement already satisfied: pbr!=2.1.0,>=2.0.0 in /usr/local/lib/python3.10/dist-packages (from stevedore>=3.0.0->qiskit-terra>=0.18.0->qiskit-ibmq-provider) (6.0.0)\n",
            "Requirement already satisfied: mpmath>=0.19 in /usr/local/lib/python3.10/dist-packages (from sympy>=1.3->qiskit-terra>=0.18.0->qiskit-ibmq-provider) (1.3.0)\n",
            "Requirement already satisfied: pycparser in /usr/local/lib/python3.10/dist-packages (from cffi>=1.12->cryptography>=1.3->requests-ntlm<=1.1.0->qiskit-ibmq-provider) (2.21)\n",
            "Installing collected packages: websockets, ntlm-auth, requests-ntlm, qiskit-ibmq-provider\n",
            "Successfully installed ntlm-auth-1.5.0 qiskit-ibmq-provider-0.20.2 requests-ntlm-1.1.0 websockets-12.0\n"
          ]
        },
        {
          "output_type": "display_data",
          "data": {
            "application/vnd.colab-display-data+json": {
              "pip_warning": {
                "packages": [
                  "qiskit"
                ]
              }
            }
          },
          "metadata": {}
        }
      ]
    },
    {
      "cell_type": "code",
      "source": [
        "import networkx as nx\n",
        "import matplotlib.pyplot as plt"
      ],
      "metadata": {
        "id": "JQ-akYqCJ2rm"
      },
      "execution_count": null,
      "outputs": []
    },
    {
      "cell_type": "code",
      "source": [
        "G = nx.Graph()\n",
        "G.add_nodes_from([0, 1, 2, 3])\n",
        "G.add_edges_from([(0, 1), (1, 2), (2, 3), (3, 0)])\n",
        "nx.draw(G, with_labels=True, alpha=0.8, node_size=500)"
      ],
      "metadata": {
        "colab": {
          "base_uri": "https://localhost:8080/",
          "height": 516
        },
        "id": "2f0NPuItJ31V",
        "outputId": "0dca6736-2313-487b-cb0c-141e8ffb0045"
      },
      "execution_count": null,
      "outputs": [
        {
          "output_type": "display_data",
          "data": {
            "text/plain": [
              "<Figure size 640x480 with 1 Axes>"
            ],
            "image/png": "[encoded data removed]"
          },
          "metadata": {}
        }
      ]
    },
    {
      "cell_type": "code",
      "source": [
        "from qiskit import QuantumCircuit, ClassicalRegister, QuantumRegister\n",
        "from qiskit import Aer, execute\n",
        "from qiskit.circuit import Parameter\n",
        "\n",
        "# Adjacency is essentially a matrix which tells you which nodes are\n",
        "# connected. This matrix is given as a sparse matrix, so we need to\n",
        "# convert it to a dense matrix\n",
        "adjacency = nx.adjacency_matrix(G).todense()\n",
        "\n",
        "nqubits = 4\n",
        "\n",
        "beta = Parameter(\"$\\\\beta$\")\n",
        "qc_mix = QuantumCircuit(nqubits)\n",
        "for i in range(0, nqubits):\n",
        "    qc_mix.rx(2 * beta, i)\n",
        "\n",
        "qc_mix.draw()"
      ],
      "metadata": {
        "colab": {
          "base_uri": "https://localhost:8080/",
          "height": 155
        },
        "id": "Ndt37VTHKTIp",
        "outputId": "ef0be34c-3a09-48a9-efd9-c369647b2df1"
      },
      "execution_count": null,
      "outputs": [
        {
          "output_type": "execute_result",
          "data": {
            "text/plain": [
              "     ┌───────────────┐\n",
              "q_0: ┤ Rx(2*$\\beta$) ├\n",
              "     ├───────────────┤\n",
              "q_1: ┤ Rx(2*$\\beta$) ├\n",
              "     ├───────────────┤\n",
              "q_2: ┤ Rx(2*$\\beta$) ├\n",
              "     ├───────────────┤\n",
              "q_3: ┤ Rx(2*$\\beta$) ├\n",
              "     └───────────────┘"
            ],
            "text/html": [
              "<pre style=\"word-wrap: normal;white-space: pre;background: #fff0;line-height: 1.1;font-family: &quot;Courier New&quot;,Courier,monospace\">     ┌───────────────┐\n",
              "q_0: ┤ Rx(2*$\\beta$) ├\n",
              "     ├───────────────┤\n",
              "q_1: ┤ Rx(2*$\\beta$) ├\n",
              "     ├───────────────┤\n",
              "q_2: ┤ Rx(2*$\\beta$) ├\n",
              "     ├───────────────┤\n",
              "q_3: ┤ Rx(2*$\\beta$) ├\n",
              "     └───────────────┘</pre>"
            ]
          },
          "metadata": {},
          "execution_count": 5
        }
      ]
    },
    {
      "cell_type": "code",
      "source": [
        "gamma = Parameter(\"$\\\\gamma$\")\n",
        "qc_p = QuantumCircuit(nqubits)\n",
        "for pair in list(G.edges()):  # pairs of nodes\n",
        "    qc_p.rzz(2 * gamma, pair[0], pair[1])\n",
        "    qc_p.barrier()\n",
        "\n",
        "qc_p.decompose().draw()"
      ],
      "metadata": {
        "colab": {
          "base_uri": "https://localhost:8080/",
          "height": 294
        },
        "id": "qYYdPcaKKiYR",
        "outputId": "0cdb3f40-f180-4545-ae77-ee2f4e1ca368"
      },
      "execution_count": null,
      "outputs": [
        {
          "output_type": "execute_result",
          "data": {
            "text/plain": [
              "                                  ░                              ░      »\n",
              "q_0: ──■──────────────────────■───░───■──────────────────────■───░──────»\n",
              "     ┌─┴─┐┌────────────────┐┌─┴─┐ ░   │                      │   ░      »\n",
              "q_1: ┤ X ├┤ Rz(2*$\\gamma$) ├┤ X ├─░───┼──────────────────────┼───░───■──»\n",
              "     └───┘└────────────────┘└───┘ ░   │                      │   ░ ┌─┴─┐»\n",
              "q_2: ─────────────────────────────░───┼──────────────────────┼───░─┤ X ├»\n",
              "                                  ░ ┌─┴─┐┌────────────────┐┌─┴─┐ ░ └───┘»\n",
              "q_3: ─────────────────────────────░─┤ X ├┤ Rz(2*$\\gamma$) ├┤ X ├─░──────»\n",
              "                                  ░ └───┘└────────────────┘└───┘ ░      »\n",
              "«                             ░                              ░ \n",
              "«q_0: ────────────────────────░──────────────────────────────░─\n",
              "«                             ░                              ░ \n",
              "«q_1: ────────────────────■───░──────────────────────────────░─\n",
              "«     ┌────────────────┐┌─┴─┐ ░                              ░ \n",
              "«q_2: ┤ Rz(2*$\\gamma$) ├┤ X ├─░───■──────────────────────■───░─\n",
              "«     └────────────────┘└───┘ ░ ┌─┴─┐┌────────────────┐┌─┴─┐ ░ \n",
              "«q_3: ────────────────────────░─┤ X ├┤ Rz(2*$\\gamma$) ├┤ X ├─░─\n",
              "«                             ░ └───┘└────────────────┘└───┘ ░ "
            ],
            "text/html": [
              "<pre style=\"word-wrap: normal;white-space: pre;background: #fff0;line-height: 1.1;font-family: &quot;Courier New&quot;,Courier,monospace\">                                  ░                              ░      »\n",
              "q_0: ──■──────────────────────■───░───■──────────────────────■───░──────»\n",
              "     ┌─┴─┐┌────────────────┐┌─┴─┐ ░   │                      │   ░      »\n",
              "q_1: ┤ X ├┤ Rz(2*$\\gamma$) ├┤ X ├─░───┼──────────────────────┼───░───■──»\n",
              "     └───┘└────────────────┘└───┘ ░   │                      │   ░ ┌─┴─┐»\n",
              "q_2: ─────────────────────────────░───┼──────────────────────┼───░─┤ X ├»\n",
              "                                  ░ ┌─┴─┐┌────────────────┐┌─┴─┐ ░ └───┘»\n",
              "q_3: ─────────────────────────────░─┤ X ├┤ Rz(2*$\\gamma$) ├┤ X ├─░──────»\n",
              "                                  ░ └───┘└────────────────┘└───┘ ░      »\n",
              "«                             ░                              ░ \n",
              "«q_0: ────────────────────────░──────────────────────────────░─\n",
              "«                             ░                              ░ \n",
              "«q_1: ────────────────────■───░──────────────────────────────░─\n",
              "«     ┌────────────────┐┌─┴─┐ ░                              ░ \n",
              "«q_2: ┤ Rz(2*$\\gamma$) ├┤ X ├─░───■──────────────────────■───░─\n",
              "«     └────────────────┘└───┘ ░ ┌─┴─┐┌────────────────┐┌─┴─┐ ░ \n",
              "«q_3: ────────────────────────░─┤ X ├┤ Rz(2*$\\gamma$) ├┤ X ├─░─\n",
              "«                             ░ └───┘└────────────────┘└───┘ ░ </pre>"
            ]
          },
          "metadata": {},
          "execution_count": 6
        }
      ]
    },
    {
      "cell_type": "code",
      "source": [
        "qc_0 = QuantumCircuit(nqubits)\n",
        "for i in range(0, nqubits):\n",
        "    qc_0.h(i)\n",
        "\n",
        "qc_0.draw()"
      ],
      "metadata": {
        "colab": {
          "base_uri": "https://localhost:8080/",
          "height": 155
        },
        "id": "uUyMcS3WLFCa",
        "outputId": "ff39f765-be51-4798-bb2f-d4962839470e"
      },
      "execution_count": null,
      "outputs": [
        {
          "output_type": "execute_result",
          "data": {
            "text/plain": [
              "     ┌───┐\n",
              "q_0: ┤ H ├\n",
              "     ├───┤\n",
              "q_1: ┤ H ├\n",
              "     ├───┤\n",
              "q_2: ┤ H ├\n",
              "     ├───┤\n",
              "q_3: ┤ H ├\n",
              "     └───┘"
            ],
            "text/html": [
              "<pre style=\"word-wrap: normal;white-space: pre;background: #fff0;line-height: 1.1;font-family: &quot;Courier New&quot;,Courier,monospace\">     ┌───┐\n",
              "q_0: ┤ H ├\n",
              "     ├───┤\n",
              "q_1: ┤ H ├\n",
              "     ├───┤\n",
              "q_2: ┤ H ├\n",
              "     ├───┤\n",
              "q_3: ┤ H ├\n",
              "     └───┘</pre>"
            ]
          },
          "metadata": {},
          "execution_count": 7
        }
      ]
    },
    {
      "cell_type": "code",
      "source": [
        "qc_qaoa = QuantumCircuit(nqubits)\n",
        "\n",
        "qc_qaoa.append(qc_0, [i for i in range(0, nqubits)])\n",
        "qc_qaoa.append(qc_mix, [i for i in range(0, nqubits)])\n",
        "qc_qaoa.append(qc_p, [i for i in range(0, nqubits)])\n",
        "\n",
        "qc_qaoa.decompose().decompose().draw()"
      ],
      "metadata": {
        "colab": {
          "base_uri": "https://localhost:8080/",
          "height": 432
        },
        "id": "og6EQSIYLK9y",
        "outputId": "4bbe9ffa-36e1-42a3-9431-f09465112985"
      },
      "execution_count": null,
      "outputs": [
        {
          "output_type": "execute_result",
          "data": {
            "text/plain": [
              "     ┌─────────┐┌────────────────┐                             ░      »\n",
              "q_0: ┤ U2(0,π) ├┤ R(2*$\\beta$,0) ├──■──────────────────────■───░───■──»\n",
              "     ├─────────┤├────────────────┤┌─┴─┐┌────────────────┐┌─┴─┐ ░   │  »\n",
              "q_1: ┤ U2(0,π) ├┤ R(2*$\\beta$,0) ├┤ X ├┤ Rz(2*$\\gamma$) ├┤ X ├─░───┼──»\n",
              "     ├─────────┤├────────────────┤└───┘└────────────────┘└───┘ ░   │  »\n",
              "q_2: ┤ U2(0,π) ├┤ R(2*$\\beta$,0) ├─────────────────────────────░───┼──»\n",
              "     ├─────────┤├────────────────┤                             ░ ┌─┴─┐»\n",
              "q_3: ┤ U2(0,π) ├┤ R(2*$\\beta$,0) ├─────────────────────────────░─┤ X ├»\n",
              "     └─────────┘└────────────────┘                             ░ └───┘»\n",
              "«                             ░                              ░      »\n",
              "«q_0: ────────────────────■───░──────────────────────────────░──────»\n",
              "«                         │   ░                              ░      »\n",
              "«q_1: ────────────────────┼───░───■──────────────────────■───░──────»\n",
              "«                         │   ░ ┌─┴─┐┌────────────────┐┌─┴─┐ ░      »\n",
              "«q_2: ────────────────────┼───░─┤ X ├┤ Rz(2*$\\gamma$) ├┤ X ├─░───■──»\n",
              "«     ┌────────────────┐┌─┴─┐ ░ └───┘└────────────────┘└───┘ ░ ┌─┴─┐»\n",
              "«q_3: ┤ Rz(2*$\\gamma$) ├┤ X ├─░──────────────────────────────░─┤ X ├»\n",
              "«     └────────────────┘└───┘ ░                              ░ └───┘»\n",
              "«                             ░ \n",
              "«q_0: ────────────────────────░─\n",
              "«                             ░ \n",
              "«q_1: ────────────────────────░─\n",
              "«                             ░ \n",
              "«q_2: ────────────────────■───░─\n",
              "«     ┌────────────────┐┌─┴─┐ ░ \n",
              "«q_3: ┤ Rz(2*$\\gamma$) ├┤ X ├─░─\n",
              "«     └────────────────┘└───┘ ░ "
            ],
            "text/html": [
              "<pre style=\"word-wrap: normal;white-space: pre;background: #fff0;line-height: 1.1;font-family: &quot;Courier New&quot;,Courier,monospace\">     ┌─────────┐┌────────────────┐                             ░      »\n",
              "q_0: ┤ U2(0,π) ├┤ R(2*$\\beta$,0) ├──■──────────────────────■───░───■──»\n",
              "     ├─────────┤├────────────────┤┌─┴─┐┌────────────────┐┌─┴─┐ ░   │  »\n",
              "q_1: ┤ U2(0,π) ├┤ R(2*$\\beta$,0) ├┤ X ├┤ Rz(2*$\\gamma$) ├┤ X ├─░───┼──»\n",
              "     ├─────────┤├────────────────┤└───┘└────────────────┘└───┘ ░   │  »\n",
              "q_2: ┤ U2(0,π) ├┤ R(2*$\\beta$,0) ├─────────────────────────────░───┼──»\n",
              "     ├─────────┤├────────────────┤                             ░ ┌─┴─┐»\n",
              "q_3: ┤ U2(0,π) ├┤ R(2*$\\beta$,0) ├─────────────────────────────░─┤ X ├»\n",
              "     └─────────┘└────────────────┘                             ░ └───┘»\n",
              "«                             ░                              ░      »\n",
              "«q_0: ────────────────────■───░──────────────────────────────░──────»\n",
              "«                         │   ░                              ░      »\n",
              "«q_1: ────────────────────┼───░───■──────────────────────■───░──────»\n",
              "«                         │   ░ ┌─┴─┐┌────────────────┐┌─┴─┐ ░      »\n",
              "«q_2: ────────────────────┼───░─┤ X ├┤ Rz(2*$\\gamma$) ├┤ X ├─░───■──»\n",
              "«     ┌────────────────┐┌─┴─┐ ░ └───┘└────────────────┘└───┘ ░ ┌─┴─┐»\n",
              "«q_3: ┤ Rz(2*$\\gamma$) ├┤ X ├─░──────────────────────────────░─┤ X ├»\n",
              "«     └────────────────┘└───┘ ░                              ░ └───┘»\n",
              "«                             ░ \n",
              "«q_0: ────────────────────────░─\n",
              "«                             ░ \n",
              "«q_1: ────────────────────────░─\n",
              "«                             ░ \n",
              "«q_2: ────────────────────■───░─\n",
              "«     ┌────────────────┐┌─┴─┐ ░ \n",
              "«q_3: ┤ Rz(2*$\\gamma$) ├┤ X ├─░─\n",
              "«     └────────────────┘└───┘ ░ </pre>"
            ]
          },
          "metadata": {},
          "execution_count": 8
        }
      ]
    },
    {
      "cell_type": "code",
      "source": [
        "from qiskit import IBMQ\n",
        "IBMQ.save_account('1d20b86a71a646d361fb6fd55f060b5de346efa247a0d3f772195ca01759802772e0efa8992e6e58c3e3d419b9dbe9518f883ba025d266649029ef0ccc9847a6')\n",
        "\n",
        "IBMQ.load_account()\n",
        "\n",
        "provider = IBMQ.get_provider(hub='ibm-q')\n",
        "#backend = provider.get_backend('ibmq_qasm_simulator')  # For a simulator\n",
        "backend = provider.get_backend('ibm_kyoto')  # For an actual quantum device"
      ],
      "metadata": {
        "colab": {
          "base_uri": "https://localhost:8080/"
        },
        "id": "nRcBbbqNLb5-",
        "outputId": "d24bf8f5-32fd-4998-8313-9ba471d32a14"
      },
      "execution_count": null,
      "outputs": [
        {
          "output_type": "stream",
          "name": "stderr",
          "text": [
            "configrc.store_credentials:WARNING:2023-12-04 05:50:21,779: Credentials already present. Set overwrite=True to overwrite.\n",
            "ibmqfactory.load_account:WARNING:2023-12-04 05:50:22,229: Credentials are already in use. The existing account in the session will be replaced.\n"
          ]
        }
      ]
    },
    {
      "cell_type": "code",
      "source": [
        "from qiskit import QuantumCircuit, transpile\n",
        "from qiskit.visualization import plot_histogram\n",
        "from qiskit.tools.monitor import job_monitor\n",
        "\n",
        "\n",
        "def maxcut_obj(x, G):\n",
        "    obj = 0\n",
        "    for i, j in G.edges():\n",
        "        if x[i] != x[j]:\n",
        "            obj -= 1\n",
        "\n",
        "    return obj\n",
        "\n",
        "def compute_expectation(counts, G):\n",
        "    avg = 0\n",
        "    sum_count = 0\n",
        "    for bitstring, count in counts.items():\n",
        "\n",
        "        obj = maxcut_obj(bitstring, G)\n",
        "        avg += obj * count\n",
        "        sum_count += count\n",
        "\n",
        "    return avg/sum_count\n",
        "\n",
        "def create_qaoa_circ(G, theta):\n",
        "    nqubits = len(G.nodes())\n",
        "    p = len(theta)//2  # number of alternating unitaries\n",
        "    qc = QuantumCircuit(nqubits)\n",
        "\n",
        "    beta = theta[:p]\n",
        "    gamma = theta[p:]\n",
        "\n",
        "    # initial_state\n",
        "    for i in range(0, nqubits):\n",
        "        qc.h(i)\n",
        "\n",
        "    for irep in range(0, p):\n",
        "        # problem unitary\n",
        "        for pair in list(G.edges()):\n",
        "            qc.rzz(2 * gamma[irep], pair[0], pair[1])\n",
        "        # mixer unitary\n",
        "        for i in range(0, nqubits):\n",
        "            qc.rx(2 * beta[irep], i)\n",
        "    qc.measure_all()\n",
        "    return qc\n",
        "\n",
        "def get_expectation(G, p, shots=512):\n",
        "    #backend = provider.get_backend('ibmq_qasm_simulator')  # or other backend\n",
        "    backend = provider.get_backend('ibm_osaka')\n",
        "\n",
        "    def execute_circ(theta):\n",
        "        qc = create_qaoa_circ(G, theta)\n",
        "        transpiled_qc = transpile(qc, backend)\n",
        "        job = backend.run(transpiled_qc, shots=shots)\n",
        "        job_monitor(job)  # Optional, to monitor job status\n",
        "        result = job.result()\n",
        "        counts = result.get_counts(qc)\n",
        "\n",
        "        return compute_expectation(counts, G)\n",
        "\n",
        "    return execute_circ\n"
      ],
      "metadata": {
        "id": "GrkYwDDmUdz1"
      },
      "execution_count": null,
      "outputs": []
    },
    {
      "cell_type": "code",
      "source": [
        "from scipy.optimize import minimize\n",
        "\n",
        "\n",
        "expectation = get_expectation(G, p=1)\n",
        "\n",
        "res = minimize(expectation,\n",
        "                      [1.0, 1.0],\n",
        "                      method='COBYLA')\n",
        "res"
      ],
      "metadata": {
        "colab": {
          "base_uri": "https://localhost:8080/"
        },
        "id": "eFiZJUg4WJbL",
        "outputId": "78236443-85be-4f83-f20b-913cceb536fb"
      },
      "execution_count": null,
      "outputs": [
        {
          "output_type": "stream",
          "name": "stdout",
          "text": [
            "Job Status: job has successfully run\n",
            "Job Status: job has successfully run\n",
            "Job Status: job has successfully run\n",
            "Job Status: job has successfully run\n",
            "Job Status: job has successfully run\n",
            "Job Status: job has successfully run\n",
            "Job Status: job has successfully run\n",
            "Job Status: job has successfully run\n",
            "Job Status: job has successfully run\n",
            "Job Status: job has successfully run\n",
            "Job Status: job has successfully run\n",
            "Job Status: job has successfully run\n",
            "Job Status: job has successfully run\n",
            "Job Status: job has successfully run\n",
            "Job Status: job has successfully run\n",
            "Job Status: job has successfully run\n",
            "Job Status: job has successfully run\n",
            "Job Status: job has successfully run\n",
            "Job Status: job has successfully run\n",
            "Job Status: job has successfully run\n",
            "Job Status: job has successfully run\n",
            "Job Status: job has successfully run\n",
            "Job Status: job has successfully run\n",
            "Job Status: job has successfully run\n",
            "Job Status: job has successfully run\n",
            "Job Status: job has successfully run\n",
            "Job Status: job has successfully run\n",
            "Job Status: job has successfully run\n",
            "Job Status: job has successfully run\n",
            "Job Status: job has successfully run\n",
            "Job Status: job has successfully run\n",
            "Job Status: job has successfully run\n",
            "Job Status: job has successfully run\n"
          ]
        },
        {
          "output_type": "execute_result",
          "data": {
            "text/plain": [
              " message: Optimization terminated successfully.\n",
              " success: True\n",
              "  status: 1\n",
              "     fun: -2.5703125\n",
              "       x: [ 1.977e+00  1.200e+00]\n",
              "    nfev: 33\n",
              "   maxcv: 0.0"
            ]
          },
          "metadata": {},
          "execution_count": 27
        }
      ]
    },
    {
      "cell_type": "code",
      "source": [
        "from scipy.optimize import minimize\n",
        "\n",
        "# Function to store the energy values\n",
        "energy_values = []\n",
        "\n",
        "def callback(x):\n",
        "    energy = get_expectation(G, p=1)(x)\n",
        "    energy_values.append(energy)\n",
        "\n",
        "# Modify your expectation function to use the callback\n",
        "expectation = get_expectation(G, p=1)\n",
        "\n",
        "# Run the optimization\n",
        "res = minimize(expectation, [1.0, 1.0], method='COBYLA', callback=callback)"
      ],
      "metadata": {
        "colab": {
          "base_uri": "https://localhost:8080/"
        },
        "id": "WLM_tVZeTqNt",
        "outputId": "423e4b15-55c5-486b-e7af-46e6ceb8d4e9"
      },
      "execution_count": null,
      "outputs": [
        {
          "output_type": "stream",
          "name": "stdout",
          "text": [
            "Job Status: job has successfully run\n",
            "Job Status: job has successfully run\n",
            "Job Status: job has successfully run\n",
            "Job Status: job has successfully run\n",
            "Job Status: job has successfully run\n",
            "Job Status: job has successfully run\n",
            "Job Status: job has successfully run\n",
            "Job Status: job has successfully run\n",
            "Job Status: job has successfully run\n",
            "Job Status: job has successfully run\n",
            "Job Status: job has successfully run\n",
            "Job Status: job has successfully run\n",
            "Job Status: job has successfully run\n",
            "Job Status: job has successfully run\n",
            "Job Status: job has successfully run\n",
            "Job Status: job has successfully run\n",
            "Job Status: job has successfully run\n",
            "Job Status: job has successfully run\n",
            "Job Status: job has successfully run\n",
            "Job Status: job has successfully run\n",
            "Job Status: job has successfully run\n",
            "Job Status: job has successfully run\n",
            "Job Status: job has successfully run\n",
            "Job Status: job has successfully run\n",
            "Job Status: job has successfully run\n",
            "Job Status: job has successfully run\n",
            "Job Status: job has successfully run\n",
            "Job Status: job has successfully run\n",
            "Job Status: job has successfully run\n",
            "Job Status: job has successfully run\n",
            "Job Status: job has successfully run\n",
            "Job Status: job has successfully run\n",
            "Job Status: job has successfully run\n",
            "Job Status: job has successfully run\n",
            "Job Status: job has successfully run\n",
            "Job Status: job has successfully run\n",
            "Job Status: job has successfully run\n",
            "Job Status: job has successfully run\n",
            "Job Status: job has successfully run\n",
            "Job Status: job has successfully run\n",
            "Job Status: job has successfully run\n",
            "Job Status: job has successfully run\n",
            "Job Status: job has successfully run\n",
            "Job Status: job has successfully run\n",
            "Job Status: job has successfully run\n",
            "Job Status: job has successfully run\n",
            "Job Status: job has successfully run\n",
            "Job Status: job has successfully run\n",
            "Job Status: job has successfully run\n",
            "Job Status: job has successfully run\n",
            "Job Status: job has successfully run\n",
            "Job Status: job has successfully run\n",
            "Job Status: job has successfully run\n",
            "Job Status: job has successfully run\n",
            "Job Status: job has successfully run\n",
            "Job Status: job has successfully run\n",
            "Job Status: job has successfully run\n",
            "Job Status: job has successfully run\n"
          ]
        }
      ]
    },
    {
      "cell_type": "code",
      "source": [
        "plt.figure(figsize=(10, 6))\n",
        "plt.plot(energy_values, marker='o')\n",
        "plt.title('Energy Values During QAOA Optimization')\n",
        "plt.xlabel('Iteration')\n",
        "plt.ylabel('Energy')\n",
        "plt.grid(True)\n",
        "plt.show()\n"
      ],
      "metadata": {
        "colab": {
          "base_uri": "https://localhost:8080/",
          "height": 564
        },
        "id": "bRUIopdbTub9",
        "outputId": "d1173b01-5329-4f9d-c20f-28566096c757"
      },
      "execution_count": null,
      "outputs": [
        {
          "output_type": "display_data",
          "data": {
            "text/plain": [
              "<Figure size 1000x600 with 1 Axes>"
            ],
            "image/png": "[encoded data removed]"
          },
          "metadata": {}
        }
      ]
    },
    {
      "cell_type": "code",
      "source": [
        "from qiskit import QuantumCircuit, transpile\n",
        "from qiskit.visualization import plot_histogram\n",
        "from qiskit.tools.monitor import job_monitor\n",
        "\n",
        "# Assuming G and res.x are already defined\n",
        "nqubits = len(G.nodes())\n",
        "#backend = provider.get_backend('ibmq_qasm_simulator')  # or choose another backend\n",
        "backend = provider.get_backend('ibm_osaka')\n",
        "\n",
        "qc_res = create_qaoa_circ(G, res.x)\n",
        "transpiled_qc_res = transpile(qc_res, backend)\n",
        "\n",
        "job = backend.run(transpiled_qc_res, shots=512)\n",
        "job_monitor(job)  # Optional, to see the job's progress\n",
        "result = job.result()\n",
        "counts = result.get_counts(qc_res)\n",
        "\n",
        "plot_histogram(counts)\n"
      ],
      "metadata": {
        "colab": {
          "base_uri": "https://localhost:8080/",
          "height": 581
        },
        "id": "3KoYahopWQBE",
        "outputId": "3a20532f-a61d-4828-f163-3fa6559de149"
      },
      "execution_count": null,
      "outputs": [
        {
          "output_type": "error",
          "ename": "IBMQBackendApiError",
          "evalue": "ignored",
          "traceback": [
            "\u001b[0;31m---------------------------------------------------------------------------\u001b[0m",
            "\u001b[0;31mHTTPError\u001b[0m                                 Traceback (most recent call last)",
            "\u001b[0;32m/usr/local/lib/python3.10/dist-packages/qiskit/providers/ibmq/api/session.py\u001b[0m in \u001b[0;36mrequest\u001b[0;34m(self, method, url, bare, **kwargs)\u001b[0m\n\u001b[1;32m    277\u001b[0m             \u001b[0mresponse\u001b[0m \u001b[0;34m=\u001b[0m \u001b[0msuper\u001b[0m\u001b[0;34m(\u001b[0m\u001b[0;34m)\u001b[0m\u001b[0;34m.\u001b[0m\u001b[0mrequest\u001b[0m\u001b[0;34m(\u001b[0m\u001b[0mmethod\u001b[0m\u001b[0;34m,\u001b[0m \u001b[0mfinal_url\u001b[0m\u001b[0;34m,\u001b[0m \u001b[0mheaders\u001b[0m\u001b[0;34m=\u001b[0m\u001b[0mheaders\u001b[0m\u001b[0;34m,\u001b[0m \u001b[0;34m**\u001b[0m\u001b[0mkwargs\u001b[0m\u001b[0;34m)\u001b[0m\u001b[0;34m\u001b[0m\u001b[0;34m\u001b[0m\u001b[0m\n\u001b[0;32m--> 278\u001b[0;31m             \u001b[0mresponse\u001b[0m\u001b[0;34m.\u001b[0m\u001b[0mraise_for_status\u001b[0m\u001b[0;34m(\u001b[0m\u001b[0;34m)\u001b[0m\u001b[0;34m\u001b[0m\u001b[0;34m\u001b[0m\u001b[0m\n\u001b[0m\u001b[1;32m    279\u001b[0m         \u001b[0;32mexcept\u001b[0m \u001b[0mRequestException\u001b[0m \u001b[0;32mas\u001b[0m \u001b[0mex\u001b[0m\u001b[0;34m:\u001b[0m\u001b[0;34m\u001b[0m\u001b[0;34m\u001b[0m\u001b[0m\n",
            "\u001b[0;32m/usr/local/lib/python3.10/dist-packages/requests/models.py\u001b[0m in \u001b[0;36mraise_for_status\u001b[0;34m(self)\u001b[0m\n\u001b[1;32m   1020\u001b[0m         \u001b[0;32mif\u001b[0m \u001b[0mhttp_error_msg\u001b[0m\u001b[0;34m:\u001b[0m\u001b[0;34m\u001b[0m\u001b[0;34m\u001b[0m\u001b[0m\n\u001b[0;32m-> 1021\u001b[0;31m             \u001b[0;32mraise\u001b[0m \u001b[0mHTTPError\u001b[0m\u001b[0;34m(\u001b[0m\u001b[0mhttp_error_msg\u001b[0m\u001b[0;34m,\u001b[0m \u001b[0mresponse\u001b[0m\u001b[0;34m=\u001b[0m\u001b[0mself\u001b[0m\u001b[0;34m)\u001b[0m\u001b[0;34m\u001b[0m\u001b[0;34m\u001b[0m\u001b[0m\n\u001b[0m\u001b[1;32m   1022\u001b[0m \u001b[0;34m\u001b[0m\u001b[0m\n",
            "\u001b[0;31mHTTPError\u001b[0m: 400 Client Error: Bad Request for url: https://api.quantum.ibm.com/api/Network/ibm-q/Groups/open/Projects/main/Jobs/656db7f83d5ef976fb499df3/jobDataUploaded",
            "\nThe above exception was the direct cause of the following exception:\n",
            "\u001b[0;31mRequestsApiError\u001b[0m                          Traceback (most recent call last)",
            "\u001b[0;32m/usr/local/lib/python3.10/dist-packages/qiskit/providers/ibmq/ibmqbackend.py\u001b[0m in \u001b[0;36m_submit_job\u001b[0;34m(self, qobj, job_name, job_tags, experiment_id, live_data_enabled)\u001b[0m\n\u001b[1;32m    388\u001b[0m             \u001b[0mqobj_dict\u001b[0m \u001b[0;34m=\u001b[0m \u001b[0mqobj\u001b[0m\u001b[0;34m.\u001b[0m\u001b[0mto_dict\u001b[0m\u001b[0;34m(\u001b[0m\u001b[0;34m)\u001b[0m\u001b[0;34m\u001b[0m\u001b[0;34m\u001b[0m\u001b[0m\n\u001b[0;32m--> 389\u001b[0;31m             submit_info = self._api_client.job_submit(\n\u001b[0m\u001b[1;32m    390\u001b[0m                 \u001b[0mbackend_name\u001b[0m\u001b[0;34m=\u001b[0m\u001b[0mself\u001b[0m\u001b[0;34m.\u001b[0m\u001b[0mname\u001b[0m\u001b[0;34m(\u001b[0m\u001b[0;34m)\u001b[0m\u001b[0;34m,\u001b[0m\u001b[0;34m\u001b[0m\u001b[0;34m\u001b[0m\u001b[0m\n",
            "\u001b[0;32m/usr/local/lib/python3.10/dist-packages/qiskit/providers/ibmq/api/clients/account.py\u001b[0m in \u001b[0;36mjob_submit\u001b[0;34m(self, backend_name, qobj_dict, job_name, job_tags, experiment_id, live_data_enabled)\u001b[0m\n\u001b[1;32m    242\u001b[0m             \u001b[0;31m# Notify the API via the callback.\u001b[0m\u001b[0;34m\u001b[0m\u001b[0;34m\u001b[0m\u001b[0m\n\u001b[0;32m--> 243\u001b[0;31m             \u001b[0mresponse\u001b[0m \u001b[0;34m=\u001b[0m \u001b[0mjob_api\u001b[0m\u001b[0;34m.\u001b[0m\u001b[0mcallback_upload\u001b[0m\u001b[0;34m(\u001b[0m\u001b[0;34m)\u001b[0m\u001b[0;34m\u001b[0m\u001b[0;34m\u001b[0m\u001b[0m\n\u001b[0m\u001b[1;32m    244\u001b[0m             \u001b[0;32mreturn\u001b[0m \u001b[0mresponse\u001b[0m\u001b[0;34m[\u001b[0m\u001b[0;34m'job'\u001b[0m\u001b[0;34m]\u001b[0m\u001b[0;34m\u001b[0m\u001b[0;34m\u001b[0m\u001b[0m\n",
            "\u001b[0;32m/usr/local/lib/python3.10/dist-packages/qiskit/providers/ibmq/api/rest/job.py\u001b[0m in \u001b[0;36mcallback_upload\u001b[0;34m(self)\u001b[0m\n\u001b[1;32m    100\u001b[0m         \u001b[0murl\u001b[0m \u001b[0;34m=\u001b[0m \u001b[0mself\u001b[0m\u001b[0;34m.\u001b[0m\u001b[0mget_url\u001b[0m\u001b[0;34m(\u001b[0m\u001b[0;34m'callback_upload'\u001b[0m\u001b[0;34m)\u001b[0m\u001b[0;34m\u001b[0m\u001b[0;34m\u001b[0m\u001b[0m\n\u001b[0;32m--> 101\u001b[0;31m         \u001b[0mdata\u001b[0m \u001b[0;34m=\u001b[0m \u001b[0mself\u001b[0m\u001b[0;34m.\u001b[0m\u001b[0msession\u001b[0m\u001b[0;34m.\u001b[0m\u001b[0mpost\u001b[0m\u001b[0;34m(\u001b[0m\u001b[0murl\u001b[0m\u001b[0;34m)\u001b[0m\u001b[0;34m.\u001b[0m\u001b[0mjson\u001b[0m\u001b[0;34m(\u001b[0m\u001b[0;34m)\u001b[0m\u001b[0;34m\u001b[0m\u001b[0;34m\u001b[0m\u001b[0m\n\u001b[0m\u001b[1;32m    102\u001b[0m         \u001b[0mmapped_response\u001b[0m \u001b[0;34m=\u001b[0m \u001b[0;34m{\u001b[0m\u001b[0;34m'job'\u001b[0m\u001b[0;34m:\u001b[0m \u001b[0mmap_job_response\u001b[0m\u001b[0;34m(\u001b[0m\u001b[0mdata\u001b[0m\u001b[0;34m[\u001b[0m\u001b[0;34m'job'\u001b[0m\u001b[0;34m]\u001b[0m\u001b[0;34m)\u001b[0m\u001b[0;34m}\u001b[0m\u001b[0;34m\u001b[0m\u001b[0;34m\u001b[0m\u001b[0m\n",
            "\u001b[0;32m/usr/local/lib/python3.10/dist-packages/requests/sessions.py\u001b[0m in \u001b[0;36mpost\u001b[0;34m(self, url, data, json, **kwargs)\u001b[0m\n\u001b[1;32m    636\u001b[0m \u001b[0;34m\u001b[0m\u001b[0m\n\u001b[0;32m--> 637\u001b[0;31m         \u001b[0;32mreturn\u001b[0m \u001b[0mself\u001b[0m\u001b[0;34m.\u001b[0m\u001b[0mrequest\u001b[0m\u001b[0;34m(\u001b[0m\u001b[0;34m\"POST\"\u001b[0m\u001b[0;34m,\u001b[0m \u001b[0murl\u001b[0m\u001b[0;34m,\u001b[0m \u001b[0mdata\u001b[0m\u001b[0;34m=\u001b[0m\u001b[0mdata\u001b[0m\u001b[0;34m,\u001b[0m \u001b[0mjson\u001b[0m\u001b[0;34m=\u001b[0m\u001b[0mjson\u001b[0m\u001b[0;34m,\u001b[0m \u001b[0;34m**\u001b[0m\u001b[0mkwargs\u001b[0m\u001b[0;34m)\u001b[0m\u001b[0;34m\u001b[0m\u001b[0;34m\u001b[0m\u001b[0m\n\u001b[0m\u001b[1;32m    638\u001b[0m \u001b[0;34m\u001b[0m\u001b[0m\n",
            "\u001b[0;32m/usr/local/lib/python3.10/dist-packages/qiskit/providers/ibmq/api/session.py\u001b[0m in \u001b[0;36mrequest\u001b[0;34m(self, method, url, bare, **kwargs)\u001b[0m\n\u001b[1;32m    299\u001b[0m \u001b[0;34m\u001b[0m\u001b[0m\n\u001b[0;32m--> 300\u001b[0;31m             \u001b[0;32mraise\u001b[0m \u001b[0mRequestsApiError\u001b[0m\u001b[0;34m(\u001b[0m\u001b[0mmessage\u001b[0m\u001b[0;34m,\u001b[0m \u001b[0mstatus_code\u001b[0m\u001b[0;34m)\u001b[0m \u001b[0;32mfrom\u001b[0m \u001b[0mex\u001b[0m\u001b[0;34m\u001b[0m\u001b[0;34m\u001b[0m\u001b[0m\n\u001b[0m\u001b[1;32m    301\u001b[0m \u001b[0;34m\u001b[0m\u001b[0m\n",
            "\u001b[0;31mRequestsApiError\u001b[0m: '400 Client Error: Bad Request for url: https://api.quantum.ibm.com/api/Network/ibm-q/Groups/open/Projects/main/Jobs/656db7f83d5ef976fb499df3/jobDataUploaded. 500, Error code: 2413.'",
            "\nThe above exception was the direct cause of the following exception:\n",
            "\u001b[0;31mIBMQBackendApiError\u001b[0m                       Traceback (most recent call last)",
            "\u001b[0;32m<ipython-input-44-ebefc620d080>\u001b[0m in \u001b[0;36m<cell line: 13>\u001b[0;34m()\u001b[0m\n\u001b[1;32m     11\u001b[0m \u001b[0mtranspiled_qc_res\u001b[0m \u001b[0;34m=\u001b[0m \u001b[0mtranspile\u001b[0m\u001b[0;34m(\u001b[0m\u001b[0mqc_res\u001b[0m\u001b[0;34m,\u001b[0m \u001b[0mbackend\u001b[0m\u001b[0;34m)\u001b[0m\u001b[0;34m\u001b[0m\u001b[0;34m\u001b[0m\u001b[0m\n\u001b[1;32m     12\u001b[0m \u001b[0;34m\u001b[0m\u001b[0m\n\u001b[0;32m---> 13\u001b[0;31m \u001b[0mjob\u001b[0m \u001b[0;34m=\u001b[0m \u001b[0mbackend\u001b[0m\u001b[0;34m.\u001b[0m\u001b[0mrun\u001b[0m\u001b[0;34m(\u001b[0m\u001b[0mtranspiled_qc_res\u001b[0m\u001b[0;34m,\u001b[0m \u001b[0mshots\u001b[0m\u001b[0;34m=\u001b[0m\u001b[0;36m512\u001b[0m\u001b[0;34m)\u001b[0m\u001b[0;34m\u001b[0m\u001b[0;34m\u001b[0m\u001b[0m\n\u001b[0m\u001b[1;32m     14\u001b[0m \u001b[0mjob_monitor\u001b[0m\u001b[0;34m(\u001b[0m\u001b[0mjob\u001b[0m\u001b[0;34m)\u001b[0m  \u001b[0;31m# Optional, to see the job's progress\u001b[0m\u001b[0;34m\u001b[0m\u001b[0;34m\u001b[0m\u001b[0m\n\u001b[1;32m     15\u001b[0m \u001b[0mresult\u001b[0m \u001b[0;34m=\u001b[0m \u001b[0mjob\u001b[0m\u001b[0;34m.\u001b[0m\u001b[0mresult\u001b[0m\u001b[0;34m(\u001b[0m\u001b[0;34m)\u001b[0m\u001b[0;34m\u001b[0m\u001b[0;34m\u001b[0m\u001b[0m\n",
            "\u001b[0;32m/usr/local/lib/python3.10/dist-packages/qiskit/utils/deprecation.py\u001b[0m in \u001b[0;36mwrapper\u001b[0;34m(*args, **kwargs)\u001b[0m\n\u001b[1;32m    250\u001b[0m                     \u001b[0mpredicate\u001b[0m\u001b[0;34m=\u001b[0m\u001b[0;32mNone\u001b[0m\u001b[0;34m,\u001b[0m\u001b[0;34m\u001b[0m\u001b[0;34m\u001b[0m\u001b[0m\n\u001b[1;32m    251\u001b[0m                 )\n\u001b[0;32m--> 252\u001b[0;31m             \u001b[0;32mreturn\u001b[0m \u001b[0mfunc\u001b[0m\u001b[0;34m(\u001b[0m\u001b[0;34m*\u001b[0m\u001b[0margs\u001b[0m\u001b[0;34m,\u001b[0m \u001b[0;34m**\u001b[0m\u001b[0mkwargs\u001b[0m\u001b[0;34m)\u001b[0m\u001b[0;34m\u001b[0m\u001b[0;34m\u001b[0m\u001b[0m\n\u001b[0m\u001b[1;32m    253\u001b[0m \u001b[0;34m\u001b[0m\u001b[0m\n\u001b[1;32m    254\u001b[0m         \u001b[0;31m# When decorators get called repeatedly, `func` refers to the result of the prior\u001b[0m\u001b[0;34m\u001b[0m\u001b[0;34m\u001b[0m\u001b[0m\n",
            "\u001b[0;32m/usr/local/lib/python3.10/dist-packages/qiskit/providers/ibmq/ibmqbackend.py\u001b[0m in \u001b[0;36mrun\u001b[0;34m(self, circuits, job_name, job_share_level, job_tags, experiment_id, header, shots, memory, qubit_lo_freq, meas_lo_freq, schedule_los, meas_level, meas_return, memory_slots, memory_slot_size, rep_time, rep_delay, init_qubits, parameter_binds, use_measure_esp, live_data_enabled, **run_config)\u001b[0m\n\u001b[1;32m    336\u001b[0m             \u001b[0mqobj\u001b[0m \u001b[0;34m=\u001b[0m \u001b[0massemble\u001b[0m\u001b[0;34m(\u001b[0m\u001b[0mcircuits\u001b[0m\u001b[0;34m,\u001b[0m \u001b[0mself\u001b[0m\u001b[0;34m,\u001b[0m \u001b[0;34m**\u001b[0m\u001b[0mrun_config_dict\u001b[0m\u001b[0;34m)\u001b[0m\u001b[0;34m\u001b[0m\u001b[0;34m\u001b[0m\u001b[0m\n\u001b[1;32m    337\u001b[0m \u001b[0;34m\u001b[0m\u001b[0m\n\u001b[0;32m--> 338\u001b[0;31m         \u001b[0;32mreturn\u001b[0m \u001b[0mself\u001b[0m\u001b[0;34m.\u001b[0m\u001b[0m_submit_job\u001b[0m\u001b[0;34m(\u001b[0m\u001b[0mqobj\u001b[0m\u001b[0;34m,\u001b[0m \u001b[0mjob_name\u001b[0m\u001b[0;34m,\u001b[0m \u001b[0mjob_tags\u001b[0m\u001b[0;34m,\u001b[0m \u001b[0mexperiment_id\u001b[0m\u001b[0;34m,\u001b[0m \u001b[0mlive_data_enabled\u001b[0m\u001b[0;34m)\u001b[0m\u001b[0;34m\u001b[0m\u001b[0;34m\u001b[0m\u001b[0m\n\u001b[0m\u001b[1;32m    339\u001b[0m \u001b[0;34m\u001b[0m\u001b[0m\n\u001b[1;32m    340\u001b[0m     \u001b[0;32mdef\u001b[0m \u001b[0m_get_run_config\u001b[0m\u001b[0;34m(\u001b[0m\u001b[0mself\u001b[0m\u001b[0;34m,\u001b[0m \u001b[0;34m**\u001b[0m\u001b[0mkwargs\u001b[0m\u001b[0;34m:\u001b[0m \u001b[0mAny\u001b[0m\u001b[0;34m)\u001b[0m \u001b[0;34m->\u001b[0m \u001b[0mDict\u001b[0m\u001b[0;34m:\u001b[0m\u001b[0;34m\u001b[0m\u001b[0;34m\u001b[0m\u001b[0m\n",
            "\u001b[0;32m/usr/local/lib/python3.10/dist-packages/qiskit/providers/ibmq/ibmqbackend.py\u001b[0m in \u001b[0;36m_submit_job\u001b[0;34m(self, qobj, job_name, job_tags, experiment_id, live_data_enabled)\u001b[0m\n\u001b[1;32m    397\u001b[0m             \u001b[0;32mif\u001b[0m \u001b[0;34m'Error code: 3458'\u001b[0m \u001b[0;32min\u001b[0m \u001b[0mstr\u001b[0m\u001b[0;34m(\u001b[0m\u001b[0mex\u001b[0m\u001b[0;34m)\u001b[0m\u001b[0;34m:\u001b[0m\u001b[0;34m\u001b[0m\u001b[0;34m\u001b[0m\u001b[0m\n\u001b[1;32m    398\u001b[0m                 \u001b[0;32mraise\u001b[0m \u001b[0mIBMQBackendJobLimitError\u001b[0m\u001b[0;34m(\u001b[0m\u001b[0;34m'Error submitting job: {}'\u001b[0m\u001b[0;34m.\u001b[0m\u001b[0mformat\u001b[0m\u001b[0;34m(\u001b[0m\u001b[0mstr\u001b[0m\u001b[0;34m(\u001b[0m\u001b[0mex\u001b[0m\u001b[0;34m)\u001b[0m\u001b[0;34m)\u001b[0m\u001b[0;34m)\u001b[0m \u001b[0;32mfrom\u001b[0m \u001b[0mex\u001b[0m\u001b[0;34m\u001b[0m\u001b[0;34m\u001b[0m\u001b[0m\n\u001b[0;32m--> 399\u001b[0;31m             \u001b[0;32mraise\u001b[0m \u001b[0mIBMQBackendApiError\u001b[0m\u001b[0;34m(\u001b[0m\u001b[0;34m'Error submitting job: {}'\u001b[0m\u001b[0;34m.\u001b[0m\u001b[0mformat\u001b[0m\u001b[0;34m(\u001b[0m\u001b[0mstr\u001b[0m\u001b[0;34m(\u001b[0m\u001b[0mex\u001b[0m\u001b[0;34m)\u001b[0m\u001b[0;34m)\u001b[0m\u001b[0;34m)\u001b[0m \u001b[0;32mfrom\u001b[0m \u001b[0mex\u001b[0m\u001b[0;34m\u001b[0m\u001b[0;34m\u001b[0m\u001b[0m\n\u001b[0m\u001b[1;32m    400\u001b[0m \u001b[0;34m\u001b[0m\u001b[0m\n\u001b[1;32m    401\u001b[0m         \u001b[0;31m# Error in the job after submission:\u001b[0m\u001b[0;34m\u001b[0m\u001b[0;34m\u001b[0m\u001b[0m\n",
            "\u001b[0;31mIBMQBackendApiError\u001b[0m: \"Error submitting job: '400 Client Error: Bad Request for url: https://api.quantum.ibm.com/api/Network/ibm-q/Groups/open/Projects/main/Jobs/656db7f83d5ef976fb499df3/jobDataUploaded. 500, Error code: 2413.'\""
          ]
        }
      ]
    },
    {
      "cell_type": "code",
      "source": [
        "provider = IBMQ.get_provider(hub='ibm-q')\n",
        "kyoto = provider.get_backend('ibm_kyoto')\n",
        "osaka = provider.get_backend('ibm_osaka')\n",
        "brisbane = provider.get_backend('ibm_brisbane')\n",
        "\n",
        "print(f\"Kyoto status: {kyoto.status().to_dict()}\")\n",
        "print(f\"Osaka status: {osaka.status().to_dict()}\")\n",
        "print(f\"Brisbane status: {brisbane.status().to_dict()}\")"
      ],
      "metadata": {
        "colab": {
          "base_uri": "https://localhost:8080/"
        },
        "id": "w3BpGKtyXJbZ",
        "outputId": "23ff24a9-18f4-47e9-a9ff-ab107b12f820"
      },
      "execution_count": null,
      "outputs": [
        {
          "output_type": "stream",
          "name": "stdout",
          "text": [
            "Kyoto status: {'backend_name': 'ibm_kyoto', 'backend_version': '1.2.0', 'operational': True, 'pending_jobs': 34, 'status_msg': 'active'}\n",
            "Osaka status: {'backend_name': 'ibm_osaka', 'backend_version': '1.0.0', 'operational': True, 'pending_jobs': 22, 'status_msg': 'active'}\n",
            "Brisbane status: {'backend_name': 'ibm_brisbane', 'backend_version': '1.1.13', 'operational': True, 'pending_jobs': 262, 'status_msg': 'active'}\n"
          ]
        }
      ]
    },
    {
      "cell_type": "code",
      "source": [
        "import plotly.graph_objects as go\n",
        "import numpy as np\n",
        "\n",
        "# Define the range for the parameters (angles)\n",
        "beta_range = np.linspace(0, np.pi, 20)\n",
        "gamma_range = np.linspace(0, 2*np.pi, 20)\n",
        "\n",
        "# Prepare a grid for the parameters and energy values\n",
        "beta_grid, gamma_grid = np.meshgrid(beta_range, gamma_range)\n",
        "energy_landscape = np.zeros(beta_grid.shape)\n",
        "\n",
        "# Compute the energy for each combination of beta and gamma\n",
        "for i in range(beta_grid.shape[0]):\n",
        "    for j in range(gamma_grid.shape[1]):\n",
        "        theta = [beta_grid[i, j], gamma_grid[i, j]]\n",
        "        energy = get_expectation(G, p=1)(theta)\n",
        "        energy_landscape[i, j] = energy\n",
        "\n",
        "# Create the plot\n",
        "fig = go.Figure(data=[go.Surface(z=energy_landscape, x=beta_grid, y=gamma_grid)])\n",
        "fig.update_layout(title='QAOA Energy Landscape', autosize=False,\n",
        "                  width=800, height=800, margin=dict(l=65, r=50, b=65, t=90),\n",
        "                  scene=dict(xaxis_title='Beta', yaxis_title='Gamma', zaxis_title='Energy'))\n",
        "\n",
        "fig.show()\n"
      ],
      "metadata": {
        "colab": {
          "base_uri": "https://localhost:8080/",
          "height": 599
        },
        "id": "BAZtz5fuJRAZ",
        "outputId": "c94dad12-589e-4f0b-8516-7ee019480236"
      },
      "execution_count": null,
      "outputs": [
        {
          "output_type": "error",
          "ename": "IBMQBackendApiError",
          "evalue": "ignored",
          "traceback": [
            "\u001b[0;31m---------------------------------------------------------------------------\u001b[0m",
            "\u001b[0;31mHTTPError\u001b[0m                                 Traceback (most recent call last)",
            "\u001b[0;32m/usr/local/lib/python3.10/dist-packages/qiskit/providers/ibmq/api/session.py\u001b[0m in \u001b[0;36mrequest\u001b[0;34m(self, method, url, bare, **kwargs)\u001b[0m\n\u001b[1;32m    277\u001b[0m             \u001b[0mresponse\u001b[0m \u001b[0;34m=\u001b[0m \u001b[0msuper\u001b[0m\u001b[0;34m(\u001b[0m\u001b[0;34m)\u001b[0m\u001b[0;34m.\u001b[0m\u001b[0mrequest\u001b[0m\u001b[0;34m(\u001b[0m\u001b[0mmethod\u001b[0m\u001b[0;34m,\u001b[0m \u001b[0mfinal_url\u001b[0m\u001b[0;34m,\u001b[0m \u001b[0mheaders\u001b[0m\u001b[0;34m=\u001b[0m\u001b[0mheaders\u001b[0m\u001b[0;34m,\u001b[0m \u001b[0;34m**\u001b[0m\u001b[0mkwargs\u001b[0m\u001b[0;34m)\u001b[0m\u001b[0;34m\u001b[0m\u001b[0;34m\u001b[0m\u001b[0m\n\u001b[0;32m--> 278\u001b[0;31m             \u001b[0mresponse\u001b[0m\u001b[0;34m.\u001b[0m\u001b[0mraise_for_status\u001b[0m\u001b[0;34m(\u001b[0m\u001b[0;34m)\u001b[0m\u001b[0;34m\u001b[0m\u001b[0;34m\u001b[0m\u001b[0m\n\u001b[0m\u001b[1;32m    279\u001b[0m         \u001b[0;32mexcept\u001b[0m \u001b[0mRequestException\u001b[0m \u001b[0;32mas\u001b[0m \u001b[0mex\u001b[0m\u001b[0;34m:\u001b[0m\u001b[0;34m\u001b[0m\u001b[0;34m\u001b[0m\u001b[0m\n",
            "\u001b[0;32m/usr/local/lib/python3.10/dist-packages/requests/models.py\u001b[0m in \u001b[0;36mraise_for_status\u001b[0;34m(self)\u001b[0m\n\u001b[1;32m   1020\u001b[0m         \u001b[0;32mif\u001b[0m \u001b[0mhttp_error_msg\u001b[0m\u001b[0;34m:\u001b[0m\u001b[0;34m\u001b[0m\u001b[0;34m\u001b[0m\u001b[0m\n\u001b[0;32m-> 1021\u001b[0;31m             \u001b[0;32mraise\u001b[0m \u001b[0mHTTPError\u001b[0m\u001b[0;34m(\u001b[0m\u001b[0mhttp_error_msg\u001b[0m\u001b[0;34m,\u001b[0m \u001b[0mresponse\u001b[0m\u001b[0;34m=\u001b[0m\u001b[0mself\u001b[0m\u001b[0;34m)\u001b[0m\u001b[0;34m\u001b[0m\u001b[0;34m\u001b[0m\u001b[0m\n\u001b[0m\u001b[1;32m   1022\u001b[0m \u001b[0;34m\u001b[0m\u001b[0m\n",
            "\u001b[0;31mHTTPError\u001b[0m: 400 Client Error: Bad Request for url: https://api.quantum.ibm.com/api/Network/ibm-q/Groups/open/Projects/main/Jobs/656db7c833acce2eee12e053/jobDataUploaded",
            "\nThe above exception was the direct cause of the following exception:\n",
            "\u001b[0;31mRequestsApiError\u001b[0m                          Traceback (most recent call last)",
            "\u001b[0;32m/usr/local/lib/python3.10/dist-packages/qiskit/providers/ibmq/ibmqbackend.py\u001b[0m in \u001b[0;36m_submit_job\u001b[0;34m(self, qobj, job_name, job_tags, experiment_id, live_data_enabled)\u001b[0m\n\u001b[1;32m    388\u001b[0m             \u001b[0mqobj_dict\u001b[0m \u001b[0;34m=\u001b[0m \u001b[0mqobj\u001b[0m\u001b[0;34m.\u001b[0m\u001b[0mto_dict\u001b[0m\u001b[0;34m(\u001b[0m\u001b[0;34m)\u001b[0m\u001b[0;34m\u001b[0m\u001b[0;34m\u001b[0m\u001b[0m\n\u001b[0;32m--> 389\u001b[0;31m             submit_info = self._api_client.job_submit(\n\u001b[0m\u001b[1;32m    390\u001b[0m                 \u001b[0mbackend_name\u001b[0m\u001b[0;34m=\u001b[0m\u001b[0mself\u001b[0m\u001b[0;34m.\u001b[0m\u001b[0mname\u001b[0m\u001b[0;34m(\u001b[0m\u001b[0;34m)\u001b[0m\u001b[0;34m,\u001b[0m\u001b[0;34m\u001b[0m\u001b[0;34m\u001b[0m\u001b[0m\n",
            "\u001b[0;32m/usr/local/lib/python3.10/dist-packages/qiskit/providers/ibmq/api/clients/account.py\u001b[0m in \u001b[0;36mjob_submit\u001b[0;34m(self, backend_name, qobj_dict, job_name, job_tags, experiment_id, live_data_enabled)\u001b[0m\n\u001b[1;32m    242\u001b[0m             \u001b[0;31m# Notify the API via the callback.\u001b[0m\u001b[0;34m\u001b[0m\u001b[0;34m\u001b[0m\u001b[0m\n\u001b[0;32m--> 243\u001b[0;31m             \u001b[0mresponse\u001b[0m \u001b[0;34m=\u001b[0m \u001b[0mjob_api\u001b[0m\u001b[0;34m.\u001b[0m\u001b[0mcallback_upload\u001b[0m\u001b[0;34m(\u001b[0m\u001b[0;34m)\u001b[0m\u001b[0;34m\u001b[0m\u001b[0;34m\u001b[0m\u001b[0m\n\u001b[0m\u001b[1;32m    244\u001b[0m             \u001b[0;32mreturn\u001b[0m \u001b[0mresponse\u001b[0m\u001b[0;34m[\u001b[0m\u001b[0;34m'job'\u001b[0m\u001b[0;34m]\u001b[0m\u001b[0;34m\u001b[0m\u001b[0;34m\u001b[0m\u001b[0m\n",
            "\u001b[0;32m/usr/local/lib/python3.10/dist-packages/qiskit/providers/ibmq/api/rest/job.py\u001b[0m in \u001b[0;36mcallback_upload\u001b[0;34m(self)\u001b[0m\n\u001b[1;32m    100\u001b[0m         \u001b[0murl\u001b[0m \u001b[0;34m=\u001b[0m \u001b[0mself\u001b[0m\u001b[0;34m.\u001b[0m\u001b[0mget_url\u001b[0m\u001b[0;34m(\u001b[0m\u001b[0;34m'callback_upload'\u001b[0m\u001b[0;34m)\u001b[0m\u001b[0;34m\u001b[0m\u001b[0;34m\u001b[0m\u001b[0m\n\u001b[0;32m--> 101\u001b[0;31m         \u001b[0mdata\u001b[0m \u001b[0;34m=\u001b[0m \u001b[0mself\u001b[0m\u001b[0;34m.\u001b[0m\u001b[0msession\u001b[0m\u001b[0;34m.\u001b[0m\u001b[0mpost\u001b[0m\u001b[0;34m(\u001b[0m\u001b[0murl\u001b[0m\u001b[0;34m)\u001b[0m\u001b[0;34m.\u001b[0m\u001b[0mjson\u001b[0m\u001b[0;34m(\u001b[0m\u001b[0;34m)\u001b[0m\u001b[0;34m\u001b[0m\u001b[0;34m\u001b[0m\u001b[0m\n\u001b[0m\u001b[1;32m    102\u001b[0m         \u001b[0mmapped_response\u001b[0m \u001b[0;34m=\u001b[0m \u001b[0;34m{\u001b[0m\u001b[0;34m'job'\u001b[0m\u001b[0;34m:\u001b[0m \u001b[0mmap_job_response\u001b[0m\u001b[0;34m(\u001b[0m\u001b[0mdata\u001b[0m\u001b[0;34m[\u001b[0m\u001b[0;34m'job'\u001b[0m\u001b[0;34m]\u001b[0m\u001b[0;34m)\u001b[0m\u001b[0;34m}\u001b[0m\u001b[0;34m\u001b[0m\u001b[0;34m\u001b[0m\u001b[0m\n",
            "\u001b[0;32m/usr/local/lib/python3.10/dist-packages/requests/sessions.py\u001b[0m in \u001b[0;36mpost\u001b[0;34m(self, url, data, json, **kwargs)\u001b[0m\n\u001b[1;32m    636\u001b[0m \u001b[0;34m\u001b[0m\u001b[0m\n\u001b[0;32m--> 637\u001b[0;31m         \u001b[0;32mreturn\u001b[0m \u001b[0mself\u001b[0m\u001b[0;34m.\u001b[0m\u001b[0mrequest\u001b[0m\u001b[0;34m(\u001b[0m\u001b[0;34m\"POST\"\u001b[0m\u001b[0;34m,\u001b[0m \u001b[0murl\u001b[0m\u001b[0;34m,\u001b[0m \u001b[0mdata\u001b[0m\u001b[0;34m=\u001b[0m\u001b[0mdata\u001b[0m\u001b[0;34m,\u001b[0m \u001b[0mjson\u001b[0m\u001b[0;34m=\u001b[0m\u001b[0mjson\u001b[0m\u001b[0;34m,\u001b[0m \u001b[0;34m**\u001b[0m\u001b[0mkwargs\u001b[0m\u001b[0;34m)\u001b[0m\u001b[0;34m\u001b[0m\u001b[0;34m\u001b[0m\u001b[0m\n\u001b[0m\u001b[1;32m    638\u001b[0m \u001b[0;34m\u001b[0m\u001b[0m\n",
            "\u001b[0;32m/usr/local/lib/python3.10/dist-packages/qiskit/providers/ibmq/api/session.py\u001b[0m in \u001b[0;36mrequest\u001b[0;34m(self, method, url, bare, **kwargs)\u001b[0m\n\u001b[1;32m    299\u001b[0m \u001b[0;34m\u001b[0m\u001b[0m\n\u001b[0;32m--> 300\u001b[0;31m             \u001b[0;32mraise\u001b[0m \u001b[0mRequestsApiError\u001b[0m\u001b[0;34m(\u001b[0m\u001b[0mmessage\u001b[0m\u001b[0;34m,\u001b[0m \u001b[0mstatus_code\u001b[0m\u001b[0;34m)\u001b[0m \u001b[0;32mfrom\u001b[0m \u001b[0mex\u001b[0m\u001b[0;34m\u001b[0m\u001b[0;34m\u001b[0m\u001b[0m\n\u001b[0m\u001b[1;32m    301\u001b[0m \u001b[0;34m\u001b[0m\u001b[0m\n",
            "\u001b[0;31mRequestsApiError\u001b[0m: '400 Client Error: Bad Request for url: https://api.quantum.ibm.com/api/Network/ibm-q/Groups/open/Projects/main/Jobs/656db7c833acce2eee12e053/jobDataUploaded. Error in runtime client calling method runJob: Error executing POST https://runtime-us-east.quantum-computing.ibm.com/jobs {No request body}, Error code: 2413.'",
            "\nThe above exception was the direct cause of the following exception:\n",
            "\u001b[0;31mIBMQBackendApiError\u001b[0m                       Traceback (most recent call last)",
            "\u001b[0;32m<ipython-input-42-66d39c9df2a4>\u001b[0m in \u001b[0;36m<cell line: 13>\u001b[0;34m()\u001b[0m\n\u001b[1;32m     14\u001b[0m     \u001b[0;32mfor\u001b[0m \u001b[0mj\u001b[0m \u001b[0;32min\u001b[0m \u001b[0mrange\u001b[0m\u001b[0;34m(\u001b[0m\u001b[0mgamma_grid\u001b[0m\u001b[0;34m.\u001b[0m\u001b[0mshape\u001b[0m\u001b[0;34m[\u001b[0m\u001b[0;36m1\u001b[0m\u001b[0;34m]\u001b[0m\u001b[0;34m)\u001b[0m\u001b[0;34m:\u001b[0m\u001b[0;34m\u001b[0m\u001b[0;34m\u001b[0m\u001b[0m\n\u001b[1;32m     15\u001b[0m         \u001b[0mtheta\u001b[0m \u001b[0;34m=\u001b[0m \u001b[0;34m[\u001b[0m\u001b[0mbeta_grid\u001b[0m\u001b[0;34m[\u001b[0m\u001b[0mi\u001b[0m\u001b[0;34m,\u001b[0m \u001b[0mj\u001b[0m\u001b[0;34m]\u001b[0m\u001b[0;34m,\u001b[0m \u001b[0mgamma_grid\u001b[0m\u001b[0;34m[\u001b[0m\u001b[0mi\u001b[0m\u001b[0;34m,\u001b[0m \u001b[0mj\u001b[0m\u001b[0;34m]\u001b[0m\u001b[0;34m]\u001b[0m\u001b[0;34m\u001b[0m\u001b[0;34m\u001b[0m\u001b[0m\n\u001b[0;32m---> 16\u001b[0;31m         \u001b[0menergy\u001b[0m \u001b[0;34m=\u001b[0m \u001b[0mget_expectation\u001b[0m\u001b[0;34m(\u001b[0m\u001b[0mG\u001b[0m\u001b[0;34m,\u001b[0m \u001b[0mp\u001b[0m\u001b[0;34m=\u001b[0m\u001b[0;36m1\u001b[0m\u001b[0;34m)\u001b[0m\u001b[0;34m(\u001b[0m\u001b[0mtheta\u001b[0m\u001b[0;34m)\u001b[0m\u001b[0;34m\u001b[0m\u001b[0;34m\u001b[0m\u001b[0m\n\u001b[0m\u001b[1;32m     17\u001b[0m         \u001b[0menergy_landscape\u001b[0m\u001b[0;34m[\u001b[0m\u001b[0mi\u001b[0m\u001b[0;34m,\u001b[0m \u001b[0mj\u001b[0m\u001b[0;34m]\u001b[0m \u001b[0;34m=\u001b[0m \u001b[0menergy\u001b[0m\u001b[0;34m\u001b[0m\u001b[0;34m\u001b[0m\u001b[0m\n\u001b[1;32m     18\u001b[0m \u001b[0;34m\u001b[0m\u001b[0m\n",
            "\u001b[0;32m<ipython-input-26-b77853defb98>\u001b[0m in \u001b[0;36mexecute_circ\u001b[0;34m(theta)\u001b[0m\n\u001b[1;32m    111\u001b[0m         \u001b[0mqc\u001b[0m \u001b[0;34m=\u001b[0m \u001b[0mcreate_qaoa_circ\u001b[0m\u001b[0;34m(\u001b[0m\u001b[0mG\u001b[0m\u001b[0;34m,\u001b[0m \u001b[0mtheta\u001b[0m\u001b[0;34m)\u001b[0m\u001b[0;34m\u001b[0m\u001b[0;34m\u001b[0m\u001b[0m\n\u001b[1;32m    112\u001b[0m         \u001b[0mtranspiled_qc\u001b[0m \u001b[0;34m=\u001b[0m \u001b[0mtranspile\u001b[0m\u001b[0;34m(\u001b[0m\u001b[0mqc\u001b[0m\u001b[0;34m,\u001b[0m \u001b[0mbackend\u001b[0m\u001b[0;34m)\u001b[0m\u001b[0;34m\u001b[0m\u001b[0;34m\u001b[0m\u001b[0m\n\u001b[0;32m--> 113\u001b[0;31m         \u001b[0mjob\u001b[0m \u001b[0;34m=\u001b[0m \u001b[0mbackend\u001b[0m\u001b[0;34m.\u001b[0m\u001b[0mrun\u001b[0m\u001b[0;34m(\u001b[0m\u001b[0mtranspiled_qc\u001b[0m\u001b[0;34m,\u001b[0m \u001b[0mshots\u001b[0m\u001b[0;34m=\u001b[0m\u001b[0mshots\u001b[0m\u001b[0;34m)\u001b[0m\u001b[0;34m\u001b[0m\u001b[0;34m\u001b[0m\u001b[0m\n\u001b[0m\u001b[1;32m    114\u001b[0m         \u001b[0mjob_monitor\u001b[0m\u001b[0;34m(\u001b[0m\u001b[0mjob\u001b[0m\u001b[0;34m)\u001b[0m  \u001b[0;31m# Optional, to monitor job status\u001b[0m\u001b[0;34m\u001b[0m\u001b[0;34m\u001b[0m\u001b[0m\n\u001b[1;32m    115\u001b[0m         \u001b[0mresult\u001b[0m \u001b[0;34m=\u001b[0m \u001b[0mjob\u001b[0m\u001b[0;34m.\u001b[0m\u001b[0mresult\u001b[0m\u001b[0;34m(\u001b[0m\u001b[0;34m)\u001b[0m\u001b[0;34m\u001b[0m\u001b[0;34m\u001b[0m\u001b[0m\n",
            "\u001b[0;32m/usr/local/lib/python3.10/dist-packages/qiskit/utils/deprecation.py\u001b[0m in \u001b[0;36mwrapper\u001b[0;34m(*args, **kwargs)\u001b[0m\n\u001b[1;32m    250\u001b[0m                     \u001b[0mpredicate\u001b[0m\u001b[0;34m=\u001b[0m\u001b[0;32mNone\u001b[0m\u001b[0;34m,\u001b[0m\u001b[0;34m\u001b[0m\u001b[0;34m\u001b[0m\u001b[0m\n\u001b[1;32m    251\u001b[0m                 )\n\u001b[0;32m--> 252\u001b[0;31m             \u001b[0;32mreturn\u001b[0m \u001b[0mfunc\u001b[0m\u001b[0;34m(\u001b[0m\u001b[0;34m*\u001b[0m\u001b[0margs\u001b[0m\u001b[0;34m,\u001b[0m \u001b[0;34m**\u001b[0m\u001b[0mkwargs\u001b[0m\u001b[0;34m)\u001b[0m\u001b[0;34m\u001b[0m\u001b[0;34m\u001b[0m\u001b[0m\n\u001b[0m\u001b[1;32m    253\u001b[0m \u001b[0;34m\u001b[0m\u001b[0m\n\u001b[1;32m    254\u001b[0m         \u001b[0;31m# When decorators get called repeatedly, `func` refers to the result of the prior\u001b[0m\u001b[0;34m\u001b[0m\u001b[0;34m\u001b[0m\u001b[0m\n",
            "\u001b[0;32m/usr/local/lib/python3.10/dist-packages/qiskit/providers/ibmq/ibmqbackend.py\u001b[0m in \u001b[0;36mrun\u001b[0;34m(self, circuits, job_name, job_share_level, job_tags, experiment_id, header, shots, memory, qubit_lo_freq, meas_lo_freq, schedule_los, meas_level, meas_return, memory_slots, memory_slot_size, rep_time, rep_delay, init_qubits, parameter_binds, use_measure_esp, live_data_enabled, **run_config)\u001b[0m\n\u001b[1;32m    336\u001b[0m             \u001b[0mqobj\u001b[0m \u001b[0;34m=\u001b[0m \u001b[0massemble\u001b[0m\u001b[0;34m(\u001b[0m\u001b[0mcircuits\u001b[0m\u001b[0;34m,\u001b[0m \u001b[0mself\u001b[0m\u001b[0;34m,\u001b[0m \u001b[0;34m**\u001b[0m\u001b[0mrun_config_dict\u001b[0m\u001b[0;34m)\u001b[0m\u001b[0;34m\u001b[0m\u001b[0;34m\u001b[0m\u001b[0m\n\u001b[1;32m    337\u001b[0m \u001b[0;34m\u001b[0m\u001b[0m\n\u001b[0;32m--> 338\u001b[0;31m         \u001b[0;32mreturn\u001b[0m \u001b[0mself\u001b[0m\u001b[0;34m.\u001b[0m\u001b[0m_submit_job\u001b[0m\u001b[0;34m(\u001b[0m\u001b[0mqobj\u001b[0m\u001b[0;34m,\u001b[0m \u001b[0mjob_name\u001b[0m\u001b[0;34m,\u001b[0m \u001b[0mjob_tags\u001b[0m\u001b[0;34m,\u001b[0m \u001b[0mexperiment_id\u001b[0m\u001b[0;34m,\u001b[0m \u001b[0mlive_data_enabled\u001b[0m\u001b[0;34m)\u001b[0m\u001b[0;34m\u001b[0m\u001b[0;34m\u001b[0m\u001b[0m\n\u001b[0m\u001b[1;32m    339\u001b[0m \u001b[0;34m\u001b[0m\u001b[0m\n\u001b[1;32m    340\u001b[0m     \u001b[0;32mdef\u001b[0m \u001b[0m_get_run_config\u001b[0m\u001b[0;34m(\u001b[0m\u001b[0mself\u001b[0m\u001b[0;34m,\u001b[0m \u001b[0;34m**\u001b[0m\u001b[0mkwargs\u001b[0m\u001b[0;34m:\u001b[0m \u001b[0mAny\u001b[0m\u001b[0;34m)\u001b[0m \u001b[0;34m->\u001b[0m \u001b[0mDict\u001b[0m\u001b[0;34m:\u001b[0m\u001b[0;34m\u001b[0m\u001b[0;34m\u001b[0m\u001b[0m\n",
            "\u001b[0;32m/usr/local/lib/python3.10/dist-packages/qiskit/providers/ibmq/ibmqbackend.py\u001b[0m in \u001b[0;36m_submit_job\u001b[0;34m(self, qobj, job_name, job_tags, experiment_id, live_data_enabled)\u001b[0m\n\u001b[1;32m    397\u001b[0m             \u001b[0;32mif\u001b[0m \u001b[0;34m'Error code: 3458'\u001b[0m \u001b[0;32min\u001b[0m \u001b[0mstr\u001b[0m\u001b[0;34m(\u001b[0m\u001b[0mex\u001b[0m\u001b[0;34m)\u001b[0m\u001b[0;34m:\u001b[0m\u001b[0;34m\u001b[0m\u001b[0;34m\u001b[0m\u001b[0m\n\u001b[1;32m    398\u001b[0m                 \u001b[0;32mraise\u001b[0m \u001b[0mIBMQBackendJobLimitError\u001b[0m\u001b[0;34m(\u001b[0m\u001b[0;34m'Error submitting job: {}'\u001b[0m\u001b[0;34m.\u001b[0m\u001b[0mformat\u001b[0m\u001b[0;34m(\u001b[0m\u001b[0mstr\u001b[0m\u001b[0;34m(\u001b[0m\u001b[0mex\u001b[0m\u001b[0;34m)\u001b[0m\u001b[0;34m)\u001b[0m\u001b[0;34m)\u001b[0m \u001b[0;32mfrom\u001b[0m \u001b[0mex\u001b[0m\u001b[0;34m\u001b[0m\u001b[0;34m\u001b[0m\u001b[0m\n\u001b[0;32m--> 399\u001b[0;31m             \u001b[0;32mraise\u001b[0m \u001b[0mIBMQBackendApiError\u001b[0m\u001b[0;34m(\u001b[0m\u001b[0;34m'Error submitting job: {}'\u001b[0m\u001b[0;34m.\u001b[0m\u001b[0mformat\u001b[0m\u001b[0;34m(\u001b[0m\u001b[0mstr\u001b[0m\u001b[0;34m(\u001b[0m\u001b[0mex\u001b[0m\u001b[0;34m)\u001b[0m\u001b[0;34m)\u001b[0m\u001b[0;34m)\u001b[0m \u001b[0;32mfrom\u001b[0m \u001b[0mex\u001b[0m\u001b[0;34m\u001b[0m\u001b[0;34m\u001b[0m\u001b[0m\n\u001b[0m\u001b[1;32m    400\u001b[0m \u001b[0;34m\u001b[0m\u001b[0m\n\u001b[1;32m    401\u001b[0m         \u001b[0;31m# Error in the job after submission:\u001b[0m\u001b[0;34m\u001b[0m\u001b[0;34m\u001b[0m\u001b[0m\n",
            "\u001b[0;31mIBMQBackendApiError\u001b[0m: \"Error submitting job: '400 Client Error: Bad Request for url: https://api.quantum.ibm.com/api/Network/ibm-q/Groups/open/Projects/main/Jobs/656db7c833acce2eee12e053/jobDataUploaded. Error in runtime client calling method runJob: Error executing POST https://runtime-us-east.quantum-computing.ibm.com/jobs {No request body}, Error code: 2413.'\""
          ]
        }
      ]
    },
    {
      "cell_type": "code",
      "source": [
        "provider = IBMQ.get_provider(hub='ibm-q')\n",
        "backend = provider.get_backend('ibm_osaka')\n",
        "\n",
        "# Print basic properties of the backend\n",
        "print(f\"Backend: {backend.name()}\")\n",
        "print(f\"Number of Qubits: {backend.configuration().n_qubits}\")\n",
        "print(f\"Quantum Volume: {backend.configuration().quantum_volume}\")\n",
        "print(f\"Simulator: {backend.configuration().simulator}\")\n",
        "print(f\"Backend Status: {backend.status().operational}\")"
      ],
      "metadata": {
        "colab": {
          "base_uri": "https://localhost:8080/"
        },
        "id": "qONP5jvVM2kE",
        "outputId": "a77a42b1-c9c9-40d9-c6e3-45e4bb600fab"
      },
      "execution_count": null,
      "outputs": [
        {
          "output_type": "stream",
          "name": "stdout",
          "text": [
            "Backend: ibm_osaka\n",
            "Number of Qubits: 127\n",
            "Quantum Volume: None\n",
            "Simulator: False\n",
            "Backend Status: True\n"
          ]
        }
      ]
    },
    {
      "cell_type": "code",
      "source": [
        "import plotly"
      ],
      "metadata": {
        "id": "gDszCd2ERVzK"
      },
      "execution_count": null,
      "outputs": []
    },
    {
      "cell_type": "code",
      "source": [],
      "metadata": {
        "id": "7ZTf4EIvdERW"
      },
      "execution_count": null,
      "outputs": []
    }
  ]
}